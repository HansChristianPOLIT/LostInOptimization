{
 "cells": [
  {
   "cell_type": "markdown",
   "id": "ff1b462a-e4c7-4300-8bbf-aec599799420",
   "metadata": {},
   "source": [
    "# One Asset Model"
   ]
  },
  {
   "cell_type": "markdown",
   "id": "4752c666-f1bf-44bd-ba7d-2030f3c084f3",
   "metadata": {},
   "source": [
    "This notebooks shows you how to use the tools of the **consav** package to solve the canonical **buffer-stock consumption model** with either\n",
    "\n",
    "1. **vfi**: standard value function iteration"
   ]
  },
  {
   "cell_type": "markdown",
   "id": "c6f9909e-1b0e-4817-a59f-b6a4140f17b5",
   "metadata": {},
   "source": [
    "## Model equations"
   ]
  },
  {
   "cell_type": "markdown",
   "id": "de7766ad-d823-4ccd-9ab6-0a1830c59a94",
   "metadata": {},
   "source": [
    "The model's **bellman equation** is given by\n",
    "\n",
    "$$ \n",
    "\\begin{aligned}\n",
    "v_{t}(p_{t},m_{t}) &= \\max_{c_t}\\frac{c^{1-\\rho}}{1-\\rho} + \\beta v_{t+1}(p_{t+1},m_{t+1}) \\\\\n",
    "& \\text{s.t.} \\\\ \n",
    "a_{t} &=m_{t}-c_{t} \\\\\n",
    "p_{t+1} &=\\psi_{t+1} p_{t} \\\\\n",
    "\\tilde{\\xi}_{t+1} &= \\begin{cases}\n",
    "\\mu & \\text{with prob.}\\pi\\\\\n",
    "\\frac{\\xi_{t+1}-\\pi\\mu}{1-\\pi} & \\text{else}\n",
    "\\end{cases} \\\\\n",
    "m_{t+1} &= R a_{t} + \\tilde{\\xi}_{t+1}p_{t+1}\\\\\n",
    "a_t&\\geq 0\\\\\n",
    "\\end{aligned}\n",
    "$$\n",
    "\n",
    "where\n",
    "\n",
    "$$ \\begin{aligned}\n",
    "\\log\\psi_{t+1} &\\sim \\mathcal{N}(-0.5\\sigma_{\\psi}^{2},\\sigma_{\\psi}^{2}) \\\\\n",
    "\\log\\xi_{t+1} &\\sim \\mathcal{N}(-0.5\\sigma_{\\xi}^{2},\\sigma_{\\xi}^{2})\n",
    "\\end{aligned}\n",
    "$$\n",
    "\n",
    "In the **last period** there is no continuation value\n",
    "\n",
    "$$ \n",
    "\\begin{aligned}\n",
    "v_{T+1}(m_{T+1},p_{t+1}) &= 0\n",
    "\\end{aligned}\n",
    "$$\n",
    "\n",
    "The **post-decision** value function is\n",
    "\n",
    "$$\n",
    "\\begin{aligned}\n",
    "w_t(p_t,a_t) &= \\beta v_{t+1}(m_{t+1},p_{t+1})\n",
    "\\end{aligned} \n",
    "$$\n",
    "\n",
    "The **Euler-equation** (required when solving with EGM) is \n",
    "\n",
    "$$ \n",
    "\\begin{aligned}\n",
    "C_{t}^{-\\rho} &= q_t(p_t,a_t) \\\\\n",
    " &= \\beta R \\mathbb{E}_t[C_{t+1}(p_{t+1},m_{t+1})^{-\\rho}] \n",
    "\\end{aligned}\n",
    "$$\n",
    "\n",
    "where $q_t(p_t,a_t)$ is the post-decision marginal value of cash."
   ]
  },
  {
   "cell_type": "markdown",
   "id": "8b5dfe6c-6116-43d5-b0eb-9e5877d8fe45",
   "metadata": {},
   "source": [
    "# Setup"
   ]
  },
  {
   "cell_type": "code",
   "execution_count": 67,
   "id": "ea3a2e91-397a-49d1-8bb2-20cde3d68b91",
   "metadata": {},
   "outputs": [
    {
     "name": "stdout",
     "output_type": "stream",
     "text": [
      "The autoreload extension is already loaded. To reload it, use:\n",
      "  %reload_ext autoreload\n"
     ]
    }
   ],
   "source": [
    "%load_ext autoreload\n",
    "%autoreload 2\n",
    "\n",
    "import time\n",
    "import numpy as np\n",
    "import numba as nb\n",
    "\n",
    "import matplotlib.pyplot as plt\n",
    "plt.style.use('seaborn-whitegrid')\n",
    "\n",
    "# load the OneAsset module\n",
    "from model import OneAssetModelClass\n",
    "\n",
    "# for timing\n",
    "from consav.misc import elapsed"
   ]
  },
  {
   "cell_type": "code",
   "execution_count": 68,
   "id": "9c2a73cb-849f-4944-a177-503f48e6b798",
   "metadata": {},
   "outputs": [],
   "source": [
    "nb.set_num_threads(1) # use a single thread for clarity"
   ]
  },
  {
   "cell_type": "code",
   "execution_count": 69,
   "id": "09a8486b-d5b2-4732-a0e7-e44838fcf86f",
   "metadata": {},
   "outputs": [
    {
     "name": "stdout",
     "output_type": "stream",
     "text": [
      " t = 4 solved in 0.8 secs\n",
      " t = 3 solved in 33.2 secs (w: 0.0 secs)\n",
      " t = 2 solved in 30.5 secs (w: 0.0 secs)\n",
      " t = 1 solved in 30.4 secs (w: 0.0 secs)\n",
      " t = 0 solved in 31.2 secs (w: 0.0 secs)\n",
      "model simulated in 1.3 secs\n"
     ]
    }
   ],
   "source": [
    "#Load baseline settings\n",
    "model = OneAssetModelClass(name='baseline',par={'solmethod':'vfi','do_simple_w':True})\n",
    "\n",
    "#Solve and simulate\n",
    "model.solve()\n",
    "model.simulate()\n",
    "\n",
    "par = model.par\n",
    "sol = model.sol # solve model\n",
    "sim = model.sim # simulate the model"
   ]
  },
  {
   "cell_type": "markdown",
   "id": "d3d2a2eb-5001-40c0-aebb-8fc02b5b8f55",
   "metadata": {},
   "source": [
    "### Plots"
   ]
  },
  {
   "cell_type": "code",
   "execution_count": 70,
   "id": "0af5171d-19d4-4955-9ef7-45fb681ba607",
   "metadata": {},
   "outputs": [
    {
     "data": {
      "image/png": "[encoded data removed]",
      "text/plain": [
       "<Figure size 432x288 with 1 Axes>"
      ]
     },
     "metadata": {},
     "output_type": "display_data"
    }
   ],
   "source": [
    "figs.lifecycle(model)"
   ]
  },
  {
   "cell_type": "code",
   "execution_count": null,
   "id": "56f0c7af-6fb7-455d-9067-a0fd10bd1c97",
   "metadata": {},
   "outputs": [],
   "source": []
  }
 ],
 "metadata": {
  "kernelspec": {
   "display_name": "Python 3 (ipykernel)",
   "language": "python",
   "name": "python3"
  },
  "language_info": {
   "codemirror_mode": {
    "name": "ipython",
    "version": 3
   },
   "file_extension": ".py",
   "mimetype": "text/x-python",
   "name": "python",
   "nbconvert_exporter": "python",
   "pygments_lexer": "ipython3",
   "version": "3.9.12"
  }
 },
 "nbformat": 4,
 "nbformat_minor": 5
}
